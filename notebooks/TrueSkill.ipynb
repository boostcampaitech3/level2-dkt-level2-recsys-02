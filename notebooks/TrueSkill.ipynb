{
 "cells": [
  {
   "cell_type": "code",
   "execution_count": 1,
   "metadata": {},
   "outputs": [],
   "source": [
    "import pandas as pd\n",
    "import numpy as np\n",
    "from trueskill import Rating, quality_1vs1, rate_1vs1\n",
    "import math\n",
    "import trueskill\n",
    "from tqdm import tqdm\n",
    "import os\n",
    "from collections import defaultdict"
   ]
  },
  {
   "cell_type": "code",
   "execution_count": 2,
   "metadata": {},
   "outputs": [],
   "source": [
    "def win_probability(team1, team2):\n",
    "    delta_mu = team1.mu - team2.mu\n",
    "    sum_sigma = sum([team1.sigma ** 2, team2.sigma ** 2])\n",
    "    size = 2\n",
    "    denom = math.sqrt(size * (0.05 * 0.05) + sum_sigma)\n",
    "    ts = trueskill.global_env()\n",
    "    return ts.cdf(delta_mu / denom)\n",
    "\n",
    "\n",
    "def add_trueskill(df, user_trueskill_dict, question_trueskill_dict):\n",
    "    wp = np.zeros(len(df), dtype=np.float32)\n",
    "    umu = np.zeros(len(df), dtype=np.float32)\n",
    "    usigma = np.zeros(len(df), dtype=np.float32)\n",
    "    qmu = np.zeros(len(df), dtype=np.float32)\n",
    "    qsigma = np.zeros(len(df), dtype=np.float32)\n",
    "    for cnt,row in enumerate(tqdm(df[['userID','assessmentItemID','answerCode']].values)):\n",
    "        user_id=int(row[0])\n",
    "        content_id=row[1]\n",
    "        answered_correctly=int(row[2])\n",
    "        old_user_rating = user_trueskill_dict[user_id]\n",
    "        old_question_rating = question_trueskill_dict[content_id]\n",
    "        wp[cnt] = win_probability(old_user_rating,old_question_rating)\n",
    "        umu[cnt] = old_user_rating.mu\n",
    "        usigma[cnt] = old_user_rating.sigma\n",
    "        qmu[cnt] = old_question_rating.mu\n",
    "        qsigma[cnt] = old_question_rating.sigma\n",
    "        if answered_correctly == 1:\n",
    "            new_user_rating,new_question_rating = rate_1vs1(old_user_rating,old_question_rating)\n",
    "        else:\n",
    "            new_question_rating,new_user_rating = rate_1vs1(old_question_rating,old_user_rating)\n",
    "        user_trueskill_dict[user_id] = new_user_rating\n",
    "        question_trueskill_dict[content_id] = new_question_rating\n",
    "        \n",
    "    df['trueSkill_win_probability']=wp\n",
    "    df['trueSkill_user_mu']=umu\n",
    "    df['trueSkill_user_sigma']=usigma\n",
    "    df['trueSkill_question_mu']=qmu\n",
    "    df['trueSkill_question_sigma']=qsigma\n",
    "    \n",
    "    return df\n",
    "\n",
    "\n",
    "def add_trueskill_without_update(df, user_trueskill_dict, question_trueskill_dict):\n",
    "    wp = np.zeros(len(df), dtype=np.float32)\n",
    "    umu = np.zeros(len(df), dtype=np.float32)\n",
    "    usigma = np.zeros(len(df), dtype=np.float32)\n",
    "    qmu = np.zeros(len(df), dtype=np.float32)\n",
    "    qsigma = np.zeros(len(df), dtype=np.float32)\n",
    "    for cnt,row in (enumerate(tqdm(df[['userID','assessmentItemID']].values))):\n",
    "        user_id=int(row[0])\n",
    "        content_id=row[1]\n",
    "        old_user_rating = user_trueskill_dict[user_id]\n",
    "        old_question_rating = question_trueskill_dict[content_id]\n",
    "        wp[cnt] = win_probability(old_user_rating,old_question_rating)\n",
    "        umu[cnt] = old_user_rating.mu\n",
    "        usigma[cnt] = old_user_rating.sigma\n",
    "        qmu[cnt] = old_question_rating.mu\n",
    "        qsigma[cnt] = old_question_rating.sigma\n",
    "        \n",
    "    df['trueSkill_win_probability']=wp\n",
    "    df['trueSkill_user_mu']=umu\n",
    "    df['trueSkill_user_sigma']=usigma\n",
    "    df['trueSkill_question_mu']=qmu\n",
    "    df['trueSkill_question_sigma']=qsigma\n",
    "    \n",
    "    return df\n",
    "\n",
    "def load_train_data(df):\n",
    "    last_cond = df['userID'] != df['userID'].shift(-1)\n",
    "    train_df = df[~last_cond]\n",
    "    return train_df"
   ]
  },
  {
   "cell_type": "code",
   "execution_count": 3,
   "metadata": {},
   "outputs": [],
   "source": [
    "data_dir = '/opt/ml/project/data/'\n",
    "csv_file_path = os.path.join(data_dir, 'total_data.csv')\n",
    "df = pd.read_csv(csv_file_path, parse_dates=['Timestamp']) \n",
    "df = df.sort_values(by=['userID', 'Timestamp']).reset_index(drop=True)"
   ]
  },
  {
   "cell_type": "code",
   "execution_count": 4,
   "metadata": {},
   "outputs": [
    {
     "data": {
      "text/plain": [
       "2526700"
      ]
     },
     "execution_count": 4,
     "metadata": {},
     "output_type": "execute_result"
    }
   ],
   "source": [
    "test_cond = df['userID'] != df['userID'].shift(-1)\n",
    "test_df = df[test_cond].copy()\n",
    "train_df = df[~test_cond].copy()\n",
    "\n",
    "len(train_df) + len(test_df)"
   ]
  },
  {
   "cell_type": "code",
   "execution_count": 5,
   "metadata": {},
   "outputs": [
    {
     "name": "stderr",
     "output_type": "stream",
     "text": [
      "100%|██████████| 2519258/2519258 [13:32<00:00, 3099.14it/s]\n",
      "100%|██████████| 7442/7442 [00:00<00:00, 120964.38it/s]\n"
     ]
    }
   ],
   "source": [
    "user_trueskill_dict = defaultdict(lambda:Rating())\n",
    "question_trueskill_dict = defaultdict(lambda:Rating())\n",
    "train_df = add_trueskill(train_df, user_trueskill_dict, question_trueskill_dict)\n",
    "test_df = add_trueskill_without_update(test_df, user_trueskill_dict, question_trueskill_dict)"
   ]
  },
  {
   "cell_type": "code",
   "execution_count": 6,
   "metadata": {},
   "outputs": [],
   "source": [
    "df = pd.concat([train_df, test_df])\n",
    "csv_save_path = os.path.join(data_dir, 'total_data_v2.csv')\n",
    "df.to_csv(csv_save_path, index=False)"
   ]
  }
 ],
 "metadata": {
  "interpreter": {
   "hash": "bb38b1d5dc17143af8c4be1110e85aba63a39da7f5e57e9420b18116c934763b"
  },
  "kernelspec": {
   "display_name": "Python 3.8.13 ('py38')",
   "language": "python",
   "name": "python3"
  },
  "language_info": {
   "codemirror_mode": {
    "name": "ipython",
    "version": 3
   },
   "file_extension": ".py",
   "mimetype": "text/x-python",
   "name": "python",
   "nbconvert_exporter": "python",
   "pygments_lexer": "ipython3",
   "version": "3.8.13"
  },
  "orig_nbformat": 4
 },
 "nbformat": 4,
 "nbformat_minor": 2
}

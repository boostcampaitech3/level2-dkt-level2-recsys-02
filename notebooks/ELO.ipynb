{
 "cells": [
  {
   "cell_type": "code",
   "execution_count": 1,
   "metadata": {},
   "outputs": [],
   "source": [
    "import pandas as pd\n",
    "import os\n",
    "from tqdm import tqdm\n",
    "import numpy as np\n",
    "import pickle"
   ]
  },
  {
   "cell_type": "code",
   "execution_count": 2,
   "metadata": {},
   "outputs": [],
   "source": [
    "def get_new_theta(is_good_answer, beta, left_asymptote, theta, nb_previous_answers):\n",
    "    return theta + learning_rate_theta(nb_previous_answers) * (\n",
    "        is_good_answer - probability_of_good_answer(theta, beta, left_asymptote)\n",
    "    )\n",
    "\n",
    "def get_new_beta(is_good_answer, beta, left_asymptote, theta, nb_previous_answers):\n",
    "    return beta - learning_rate_beta(nb_previous_answers) * (\n",
    "        is_good_answer - probability_of_good_answer(theta, beta, left_asymptote)\n",
    "    )\n",
    "\n",
    "def learning_rate_theta(nb_answers):\n",
    "    return max(0.3 / (1 + 0.01 * nb_answers), 0.04)\n",
    "\n",
    "def learning_rate_beta(nb_answers):\n",
    "    return 1 / (1 + 0.05 * nb_answers)\n",
    "\n",
    "def probability_of_good_answer(theta, beta, left_asymptote):\n",
    "    return left_asymptote + (1 - left_asymptote) * sigmoid(theta - beta)\n",
    "\n",
    "def sigmoid(x):\n",
    "    return 1 / (1 + np.exp(-x))"
   ]
  },
  {
   "cell_type": "code",
   "execution_count": 3,
   "metadata": {},
   "outputs": [],
   "source": [
    "def estimate_parameters(answers_df, granularity_feature_name='assessmentItemID'):\n",
    "    item_parameters = {\n",
    "        granularity_feature_value: {\"beta\": 0, \"nb_answers\": 0}\n",
    "        for granularity_feature_value in np.unique(answers_df[granularity_feature_name])\n",
    "    }\n",
    "    student_parameters = {\n",
    "        student_id: {\"theta\": 0, \"nb_answers\": 0}\n",
    "        for student_id in np.unique(answers_df.userID)\n",
    "    }\n",
    "\n",
    "    print(\"Parameter estimation is starting...\")\n",
    "\n",
    "    for student_id, item_id, left_asymptote, answerCode in tqdm(\n",
    "        zip(answers_df.userID.values, answers_df[granularity_feature_name].values, answers_df.left_asymptote.values, answers_df.answerCode.values)\n",
    "    ):\n",
    "        theta = student_parameters[student_id][\"theta\"]\n",
    "        beta = item_parameters[item_id][\"beta\"]\n",
    "\n",
    "        item_parameters[item_id][\"beta\"] = get_new_beta(\n",
    "            answerCode, beta, left_asymptote, theta, item_parameters[item_id][\"nb_answers\"],\n",
    "        )\n",
    "        student_parameters[student_id][\"theta\"] = get_new_theta(\n",
    "            answerCode, beta, left_asymptote, theta, student_parameters[student_id][\"nb_answers\"],\n",
    "        )\n",
    "        \n",
    "        item_parameters[item_id][\"nb_answers\"] += 1\n",
    "        student_parameters[student_id][\"nb_answers\"] += 1\n",
    "\n",
    "    print(f\"Theta & beta estimations on {granularity_feature_name} are completed.\")\n",
    "    return student_parameters, item_parameters\n",
    "\n",
    "\n",
    "def update_parameters(answers_df, student_parameters, item_parameters, granularity_feature_name='assessmentItemID'):\n",
    "    for student_id, item_id, left_asymptote, answerCode in tqdm(zip(\n",
    "        answers_df.userID.values, \n",
    "        answers_df[granularity_feature_name].values, \n",
    "        answers_df.left_asymptote.values, \n",
    "        answers_df.answerCode.values)\n",
    "    ):\n",
    "        if student_id not in student_parameters:\n",
    "            student_parameters[student_id] = {'theta': 0, 'nb_answers': 0}\n",
    "        if item_id not in item_parameters:\n",
    "            item_parameters[item_id] = {'beta': 0, 'nb_answers': 0}\n",
    "            \n",
    "        theta = student_parameters[student_id]['theta']\n",
    "        beta = item_parameters[item_id]['beta']\n",
    "\n",
    "        student_parameters[student_id]['theta'] = get_new_theta(\n",
    "            answerCode, beta, left_asymptote, theta, student_parameters[student_id]['nb_answers']\n",
    "        )\n",
    "        item_parameters[item_id]['beta'] = get_new_beta(\n",
    "            answerCode, beta, left_asymptote, theta, item_parameters[item_id]['nb_answers']\n",
    "        )\n",
    "        \n",
    "        student_parameters[student_id]['nb_answers'] += 1\n",
    "        item_parameters[item_id]['nb_answers'] += 1\n",
    "\n",
    "    print(f\"Theta & beta estimations on {granularity_feature_name} are updated.\")\n",
    "        \n",
    "    return student_parameters, item_parameters\n",
    "\n",
    "\n",
    "def estimate_probas(test_df, student_parameters, item_parameters, granularity_feature_name='assessmentItemID'):\n",
    "    probability_of_success_list = []\n",
    "    \n",
    "    for student_id, item_id, left_asymptote in tqdm(\n",
    "        zip(test_df.userID.values, test_df[granularity_feature_name].values, test_df.left_asymptote.values)\n",
    "    ):\n",
    "        theta = student_parameters[student_id]['theta'] if student_id in student_parameters else 0\n",
    "        beta = item_parameters[item_id]['beta'] if item_id in item_parameters else 0\n",
    "\n",
    "        probability_of_success_list.append(probability_of_good_answer(theta, beta, left_asymptote))\n",
    "\n",
    "    return probability_of_success_list"
   ]
  },
  {
   "cell_type": "code",
   "execution_count": 4,
   "metadata": {},
   "outputs": [],
   "source": [
    "data_dir = '/opt/ml/project/data/'\n",
    "csv_file_path = os.path.join(data_dir, 'total_data.csv')\n",
    "df = pd.read_csv(csv_file_path, parse_dates=['Timestamp']) \n",
    "df = df.sort_values(by=['userID', 'Timestamp']).reset_index(drop=True)"
   ]
  },
  {
   "cell_type": "code",
   "execution_count": 5,
   "metadata": {},
   "outputs": [],
   "source": [
    "def train_elo(train_df):\n",
    "    train_df['left_asymptote'] = 1/2\n",
    "\n",
    "    print(f\"Dataset of shape {train_df.shape}\")\n",
    "    print(f\"Columns are {list(train_df.columns)}\")\n",
    "    \n",
    "    student_parameters, item_parameters = estimate_parameters(train_df)\n",
    "    \n",
    "    return student_parameters, item_parameters"
   ]
  },
  {
   "cell_type": "code",
   "execution_count": 6,
   "metadata": {},
   "outputs": [],
   "source": [
    "def valid_update(df, cv_num):\n",
    "    users_file_path = os.path.join(data_dir, f'cv1_users.pickle')\n",
    "    with open(users_file_path,'rb') as f:\n",
    "        users = pickle.load(f)\n",
    "    train_users = users['train_users']\n",
    "    test_users = users['test_users']\n",
    "\n",
    "    valid_cond1 = df['userID'].isin(train_users) == False\n",
    "    valid_cond2 = df['userID'].isin(test_users) == False\n",
    "    cv_idx = df[valid_cond1&valid_cond2].groupby('userID', as_index=False).nth(-cv_num).index\n",
    "    valid_idx = df[valid_cond1&valid_cond2].groupby('userID').tail(cv_num).index\n",
    "    \n",
    "    df['cv_idx'] = False\n",
    "    df['is_valid'] = False\n",
    "    \n",
    "    df.loc[cv_idx, 'cv_idx'] = True\n",
    "    df.loc[valid_idx, 'is_valid'] = True\n",
    "    \n",
    "    return df"
   ]
  },
  {
   "cell_type": "code",
   "execution_count": 7,
   "metadata": {},
   "outputs": [
    {
     "name": "stdout",
     "output_type": "stream",
     "text": [
      "7442 2007 744 2526700\n",
      "Dataset of shape (2523949, 13)\n",
      "Columns are ['userID', 'assessmentItemID', 'testId', 'answerCode', 'Timestamp', 'KnowledgeTag', 'elapsedTime', 'testType', 'testNumber', 'questionNumber', 'cv_idx', 'is_valid', 'left_asymptote']\n",
      "Parameter estimation is starting...\n"
     ]
    },
    {
     "name": "stderr",
     "output_type": "stream",
     "text": [
      "2523949it [00:39, 63618.57it/s]\n"
     ]
    },
    {
     "name": "stdout",
     "output_type": "stream",
     "text": [
      "Theta & beta estimations on assessmentItemID are completed.\n",
      "7442 4014 744 2526700\n",
      "Dataset of shape (2521942, 13)\n",
      "Columns are ['userID', 'assessmentItemID', 'testId', 'answerCode', 'Timestamp', 'KnowledgeTag', 'elapsedTime', 'testType', 'testNumber', 'questionNumber', 'cv_idx', 'is_valid', 'left_asymptote']\n",
      "Parameter estimation is starting...\n"
     ]
    },
    {
     "name": "stderr",
     "output_type": "stream",
     "text": [
      "2521942it [00:34, 73709.02it/s]\n"
     ]
    },
    {
     "name": "stdout",
     "output_type": "stream",
     "text": [
      "Theta & beta estimations on assessmentItemID are completed.\n",
      "7442 6021 744 2526700\n",
      "Dataset of shape (2519935, 13)\n",
      "Columns are ['userID', 'assessmentItemID', 'testId', 'answerCode', 'Timestamp', 'KnowledgeTag', 'elapsedTime', 'testType', 'testNumber', 'questionNumber', 'cv_idx', 'is_valid', 'left_asymptote']\n",
      "Parameter estimation is starting...\n"
     ]
    },
    {
     "name": "stderr",
     "output_type": "stream",
     "text": [
      "2519935it [00:33, 74501.37it/s]\n"
     ]
    },
    {
     "name": "stdout",
     "output_type": "stream",
     "text": [
      "Theta & beta estimations on assessmentItemID are completed.\n",
      "7442 8028 744 2526700\n",
      "Dataset of shape (2517928, 13)\n",
      "Columns are ['userID', 'assessmentItemID', 'testId', 'answerCode', 'Timestamp', 'KnowledgeTag', 'elapsedTime', 'testType', 'testNumber', 'questionNumber', 'cv_idx', 'is_valid', 'left_asymptote']\n",
      "Parameter estimation is starting...\n"
     ]
    },
    {
     "name": "stderr",
     "output_type": "stream",
     "text": [
      "2517928it [00:34, 73833.29it/s]\n"
     ]
    },
    {
     "name": "stdout",
     "output_type": "stream",
     "text": [
      "Theta & beta estimations on assessmentItemID are completed.\n",
      "7442 10035 744 2526700\n",
      "Dataset of shape (2515921, 13)\n",
      "Columns are ['userID', 'assessmentItemID', 'testId', 'answerCode', 'Timestamp', 'KnowledgeTag', 'elapsedTime', 'testType', 'testNumber', 'questionNumber', 'cv_idx', 'is_valid', 'left_asymptote']\n",
      "Parameter estimation is starting...\n"
     ]
    },
    {
     "name": "stderr",
     "output_type": "stream",
     "text": [
      "2515921it [00:34, 73391.43it/s]\n"
     ]
    },
    {
     "name": "stdout",
     "output_type": "stream",
     "text": [
      "Theta & beta estimations on assessmentItemID are completed.\n"
     ]
    }
   ],
   "source": [
    "cv_len = 5\n",
    "\n",
    "for cv_num in range(1, 1+cv_len):\n",
    "    df = valid_update(df, cv_num)\n",
    "    \n",
    "    cond1 = df['is_valid'] == True\n",
    "    cond2 = df['answerCode'] == -1\n",
    "    test_df = df[cond1|cond2].copy()\n",
    "    train_df = df[~(cond1|cond2)].copy()\n",
    "\n",
    "    print(train_df.userID.nunique(), len(df[cond1]), len(df[cond2]), len(train_df) + len(test_df))\n",
    "    \n",
    "    student_parameters, item_parameters = train_elo(train_df)\n",
    "    with open(f'./assets3/cv{cv_num}/elo_student_parameters.pickle','wb') as f:\n",
    "        pickle.dump(student_parameters, f)\n",
    "\n",
    "    with open(f'./assets3/cv{cv_num}/elo_item_parameters.pickle','wb') as f:\n",
    "        pickle.dump(item_parameters, f)"
   ]
  }
 ],
 "metadata": {
  "interpreter": {
   "hash": "bb38b1d5dc17143af8c4be1110e85aba63a39da7f5e57e9420b18116c934763b"
  },
  "kernelspec": {
   "display_name": "Python 3.8.13 ('py38')",
   "language": "python",
   "name": "python3"
  },
  "language_info": {
   "codemirror_mode": {
    "name": "ipython",
    "version": 3
   },
   "file_extension": ".py",
   "mimetype": "text/x-python",
   "name": "python",
   "nbconvert_exporter": "python",
   "pygments_lexer": "ipython3",
   "version": "3.8.13"
  },
  "orig_nbformat": 4
 },
 "nbformat": 4,
 "nbformat_minor": 2
}

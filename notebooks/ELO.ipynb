{
 "cells": [
  {
   "cell_type": "code",
   "execution_count": 1,
   "metadata": {},
   "outputs": [],
   "source": [
    "import pandas as pd\n",
    "import os\n",
    "from tqdm import tqdm\n",
    "import numpy as np\n",
    "import pickle"
   ]
  },
  {
   "cell_type": "code",
   "execution_count": 2,
   "metadata": {},
   "outputs": [],
   "source": [
    "def get_new_theta(is_good_answer, beta, left_asymptote, theta, nb_previous_answers):\n",
    "    return theta + learning_rate_theta(nb_previous_answers) * (\n",
    "        is_good_answer - probability_of_good_answer(theta, beta, left_asymptote)\n",
    "    )\n",
    "\n",
    "def get_new_beta(is_good_answer, beta, left_asymptote, theta, nb_previous_answers):\n",
    "    return beta - learning_rate_beta(nb_previous_answers) * (\n",
    "        is_good_answer - probability_of_good_answer(theta, beta, left_asymptote)\n",
    "    )\n",
    "\n",
    "def learning_rate_theta(nb_answers):\n",
    "    return max(0.3 / (1 + 0.01 * nb_answers), 0.04)\n",
    "\n",
    "def learning_rate_beta(nb_answers):\n",
    "    return 1 / (1 + 0.05 * nb_answers)\n",
    "\n",
    "def probability_of_good_answer(theta, beta, left_asymptote):\n",
    "    return left_asymptote + (1 - left_asymptote) * sigmoid(theta - beta)\n",
    "\n",
    "def sigmoid(x):\n",
    "    return 1 / (1 + np.exp(-x))"
   ]
  },
  {
   "cell_type": "code",
   "execution_count": 3,
   "metadata": {},
   "outputs": [],
   "source": [
    "def estimate_parameters(answers_df, granularity_feature_name='assessmentItemID'):\n",
    "    item_parameters = {\n",
    "        granularity_feature_value: {\"beta\": 0, \"nb_answers\": 0}\n",
    "        for granularity_feature_value in np.unique(answers_df[granularity_feature_name])\n",
    "    }\n",
    "    student_parameters = {\n",
    "        student_id: {\"theta\": 0, \"nb_answers\": 0}\n",
    "        for student_id in np.unique(answers_df.userID)\n",
    "    }\n",
    "\n",
    "    print(\"Parameter estimation is starting...\")\n",
    "\n",
    "    for student_id, item_id, left_asymptote, answerCode in tqdm(\n",
    "        zip(answers_df.userID.values, answers_df[granularity_feature_name].values, answers_df.left_asymptote.values, answers_df.answerCode.values)\n",
    "    ):\n",
    "        theta = student_parameters[student_id][\"theta\"]\n",
    "        beta = item_parameters[item_id][\"beta\"]\n",
    "\n",
    "        item_parameters[item_id][\"beta\"] = get_new_beta(\n",
    "            answerCode, beta, left_asymptote, theta, item_parameters[item_id][\"nb_answers\"],\n",
    "        )\n",
    "        student_parameters[student_id][\"theta\"] = get_new_theta(\n",
    "            answerCode, beta, left_asymptote, theta, student_parameters[student_id][\"nb_answers\"],\n",
    "        )\n",
    "        \n",
    "        item_parameters[item_id][\"nb_answers\"] += 1\n",
    "        student_parameters[student_id][\"nb_answers\"] += 1\n",
    "\n",
    "    print(f\"Theta & beta estimations on {granularity_feature_name} are completed.\")\n",
    "    return student_parameters, item_parameters"
   ]
  },
  {
   "cell_type": "code",
   "execution_count": 4,
   "metadata": {},
   "outputs": [],
   "source": [
    "def update_parameters(answers_df, student_parameters, item_parameters, granularity_feature_name='assessmentItemID'):\n",
    "    for student_id, item_id, left_asymptote, answerCode in tqdm(zip(\n",
    "        answers_df.userID.values, \n",
    "        answers_df[granularity_feature_name].values, \n",
    "        answers_df.left_asymptote.values, \n",
    "        answers_df.answerCode.values)\n",
    "    ):\n",
    "        if student_id not in student_parameters:\n",
    "            student_parameters[student_id] = {'theta': 0, 'nb_answers': 0}\n",
    "        if item_id not in item_parameters:\n",
    "            item_parameters[item_id] = {'beta': 0, 'nb_answers': 0}\n",
    "            \n",
    "        theta = student_parameters[student_id]['theta']\n",
    "        beta = item_parameters[item_id]['beta']\n",
    "\n",
    "        student_parameters[student_id]['theta'] = get_new_theta(\n",
    "            answerCode, beta, left_asymptote, theta, student_parameters[student_id]['nb_answers']\n",
    "        )\n",
    "        item_parameters[item_id]['beta'] = get_new_beta(\n",
    "            answerCode, beta, left_asymptote, theta, item_parameters[item_id]['nb_answers']\n",
    "        )\n",
    "        \n",
    "        student_parameters[student_id]['nb_answers'] += 1\n",
    "        item_parameters[item_id]['nb_answers'] += 1\n",
    "\n",
    "    print(f\"Theta & beta estimations on {granularity_feature_name} are updated.\")\n",
    "        \n",
    "    return student_parameters, item_parameters"
   ]
  },
  {
   "cell_type": "code",
   "execution_count": 5,
   "metadata": {},
   "outputs": [],
   "source": [
    "def estimate_probas(test_df, student_parameters, item_parameters, granularity_feature_name='assessmentItemID'):\n",
    "    probability_of_success_list = []\n",
    "    \n",
    "    for student_id, item_id, left_asymptote in tqdm(\n",
    "        zip(test_df.userID.values, test_df[granularity_feature_name].values, test_df.left_asymptote.values)\n",
    "    ):\n",
    "        theta = student_parameters[student_id]['theta'] if student_id in student_parameters else 0\n",
    "        beta = item_parameters[item_id]['beta'] if item_id in item_parameters else 0\n",
    "\n",
    "        probability_of_success_list.append(probability_of_good_answer(theta, beta, left_asymptote))\n",
    "\n",
    "    return probability_of_success_list"
   ]
  },
  {
   "cell_type": "code",
   "execution_count": 6,
   "metadata": {},
   "outputs": [],
   "source": [
    "def train_elo(train_df):\n",
    "    train_df['left_asymptote'] = 1/2\n",
    "\n",
    "    print(f\"Dataset of shape {train_df.shape}\")\n",
    "    print(f\"Columns are {list(train_df.columns)}\")\n",
    "    \n",
    "    student_parameters, item_parameters = estimate_parameters(train_df)\n",
    "    \n",
    "    return student_parameters, item_parameters"
   ]
  },
  {
   "cell_type": "code",
   "execution_count": 7,
   "metadata": {},
   "outputs": [],
   "source": [
    "def load_train_data(df):\n",
    "    last_cond = df['userID'] != df['userID'].shift(-1)\n",
    "    train_df = df[~last_cond].copy()\n",
    "    return train_df"
   ]
  },
  {
   "cell_type": "code",
   "execution_count": 8,
   "metadata": {},
   "outputs": [],
   "source": [
    "data_dir = '/opt/ml/project/data/'\n",
    "csv_file_path = os.path.join(data_dir, 'total_data.csv')\n",
    "df = pd.read_csv(\n",
    "    filepath_or_buffer=csv_file_path,\n",
    "    usecols=['userID', 'assessmentItemID', 'answerCode'],\n",
    "    dtype = {'answerCode': 'int8'},\n",
    ")"
   ]
  },
  {
   "cell_type": "code",
   "execution_count": 9,
   "metadata": {},
   "outputs": [
    {
     "name": "stdout",
     "output_type": "stream",
     "text": [
      "Dataset of shape (2519258, 4)\n",
      "Columns are ['userID', 'assessmentItemID', 'answerCode', 'left_asymptote']\n",
      "Parameter estimation is starting...\n"
     ]
    },
    {
     "name": "stderr",
     "output_type": "stream",
     "text": [
      "2519258it [00:43, 57933.65it/s]\n"
     ]
    },
    {
     "name": "stdout",
     "output_type": "stream",
     "text": [
      "Theta & beta estimations on assessmentItemID are completed.\n"
     ]
    }
   ],
   "source": [
    "train_df = load_train_data(df)\n",
    "\n",
    "student_parameters, item_parameters = train_elo(train_df)\n",
    "\n",
    "with open(f'./assets/elo_student_parameters.pickle','wb') as f:\n",
    "    pickle.dump(student_parameters, f)\n",
    "\n",
    "with open(f'./assets/elo_item_parameters.pickle','wb') as f:\n",
    "    pickle.dump(item_parameters, f)"
   ]
  },
  {
   "cell_type": "code",
   "execution_count": 10,
   "metadata": {},
   "outputs": [
    {
     "name": "stderr",
     "output_type": "stream",
     "text": [
      "744it [00:00, 134148.49it/s]"
     ]
    },
    {
     "name": "stdout",
     "output_type": "stream",
     "text": [
      "writing prediction : ./output/elo_submission.csv\n",
      "Done\n"
     ]
    },
    {
     "name": "stderr",
     "output_type": "stream",
     "text": [
      "\n"
     ]
    }
   ],
   "source": [
    "test_df = df[df['answerCode'] == -1].copy()\n",
    "test_df['left_asymptote']=1/2\n",
    "\n",
    "preds = estimate_probas(test_df, student_parameters, item_parameters)\n",
    "\n",
    "write_path = './output/elo_submission.csv'\n",
    "    \n",
    "with open(write_path, 'w', encoding='utf8') as w:\n",
    "    print(\"writing prediction : {}\".format(write_path))\n",
    "    w.write(\"id,prediction\\n\")\n",
    "    for id, p in enumerate(preds):\n",
    "        w.write('{},{}\\n'.format(id,p))\n",
    "\n",
    "print(\"Done\")"
   ]
  }
 ],
 "metadata": {
  "interpreter": {
   "hash": "bb38b1d5dc17143af8c4be1110e85aba63a39da7f5e57e9420b18116c934763b"
  },
  "kernelspec": {
   "display_name": "Python 3.8.13 ('py38')",
   "language": "python",
   "name": "python3"
  },
  "language_info": {
   "codemirror_mode": {
    "name": "ipython",
    "version": 3
   },
   "file_extension": ".py",
   "mimetype": "text/x-python",
   "name": "python",
   "nbconvert_exporter": "python",
   "pygments_lexer": "ipython3",
   "version": "3.8.13"
  },
  "orig_nbformat": 4
 },
 "nbformat": 4,
 "nbformat_minor": 2
}

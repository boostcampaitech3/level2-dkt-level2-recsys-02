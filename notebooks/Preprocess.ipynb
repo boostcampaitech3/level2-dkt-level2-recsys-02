{
 "cells": [
  {
   "cell_type": "code",
   "execution_count": 1,
   "metadata": {},
   "outputs": [],
   "source": [
    "import pandas as pd\n",
    "import os\n",
    "import random\n",
    "from tqdm import tqdm\n",
    "import numpy as np\n",
    "import numpy as np\n",
    "import matplotlib.pyplot as plt\n",
    "import seaborn as sns; sns.set_theme(color_codes=True)\n",
    "import pickle"
   ]
  },
  {
   "cell_type": "code",
   "execution_count": 2,
   "metadata": {},
   "outputs": [],
   "source": [
    "data_dir = '/opt/ml/project/data/'\n",
    "train_path = os.path.join(data_dir, 'train_data.csv') \n",
    "train_df = pd.read_csv(train_path, parse_dates=['Timestamp']) \n",
    "\n",
    "test_path = os.path.join(data_dir, 'test_data.csv') \n",
    "test_df = pd.read_csv(test_path, parse_dates=['Timestamp']) \n",
    "\n",
    "df = pd.concat([train_df, test_df])\n",
    "df = df.sort_values(by=['userID','Timestamp']).reset_index(drop=True)"
   ]
  },
  {
   "cell_type": "code",
   "execution_count": 4,
   "metadata": {},
   "outputs": [],
   "source": [
    "elapsed_time = df.Timestamp.shift(-1) - df.Timestamp\n",
    "elapsed_time = elapsed_time.values / np.timedelta64(1, 's')\n",
    "df['elapsedTime'] = elapsed_time\n",
    "df.loc[df.groupby('userID', as_index=False).nth(-1).index, 'elapsedTime'] = np.NaN"
   ]
  },
  {
   "cell_type": "code",
   "execution_count": 5,
   "metadata": {},
   "outputs": [],
   "source": [
    "df['test_cumcount'] = df.groupby(['userID', 'testId']).cumcount() + 1\n",
    "temp_df = df.groupby(['userID', 'testId'],as_index=False).assessmentItemID.nunique()\n",
    "temp_df.columns = ['userID', 'testId', 'test_itemnum']\n",
    "df = pd.merge(df, temp_df, how='left', on=['userID', 'testId'])\n",
    "df['test_num'] = (df['test_cumcount'] - 1) // df['test_itemnum']"
   ]
  },
  {
   "cell_type": "code",
   "execution_count": 6,
   "metadata": {},
   "outputs": [],
   "source": [
    "temp_df = df[df['test_cumcount'] % df['test_itemnum'] == 1]\n",
    "temp_df = temp_df[['userID', 'testId', 'test_num', 'Timestamp']]\n",
    "temp_df.columns = ['userID', 'testId', 'test_num', 'test_start_time']\n",
    "df = pd.merge(df, temp_df, how='left', on=['userID', 'testId', 'test_num'])\n",
    "\n",
    "temp_df = df[df['test_cumcount'] % df['test_itemnum'] == 0]\n",
    "temp_df = temp_df[['userID', 'testId', 'test_num', 'Timestamp']]\n",
    "temp_df.columns = ['userID', 'testId', 'test_num', 'test_end_time']\n",
    "df = pd.merge(df, temp_df, how='left', on=['userID', 'testId', 'test_num'])"
   ]
  },
  {
   "cell_type": "code",
   "execution_count": 7,
   "metadata": {},
   "outputs": [],
   "source": [
    "cond1 = df.userID.shift(-1) == df.userID\n",
    "cond2_1 = df.test_start_time < df.test_start_time.shift(-1)\n",
    "cond2_2 = df.test_end_time > df.test_start_time.shift(-1)\n",
    "cond3 = df.test_cumcount % df.test_itemnum == 0\n",
    "cond4 = df.elapsedTime > 60\n",
    "\n",
    "df.loc[~(cond1&cond2_1&cond2_2)&cond3&cond4, 'elapsedTime'] = np.NaN"
   ]
  },
  {
   "cell_type": "code",
   "execution_count": 8,
   "metadata": {},
   "outputs": [],
   "source": [
    "def out_zscore(data):\n",
    "    z_scores = []\n",
    "    threshold = 3\n",
    "    mean = np.mean(data)\n",
    "    std = np.std(data)\n",
    "    for i in data:\n",
    "        z_scores.append((i - mean)/std)\n",
    "    return np.where(np.abs(z_scores) > threshold)[0]"
   ]
  },
  {
   "cell_type": "code",
   "execution_count": 9,
   "metadata": {},
   "outputs": [],
   "source": [
    "outliers_idx = out_zscore(df.elapsedTime)\n",
    "df.loc[outliers_idx, 'elapsedTime'] = np.NaN"
   ]
  },
  {
   "cell_type": "code",
   "execution_count": 10,
   "metadata": {},
   "outputs": [],
   "source": [
    "df['testType'] = df['testId'].apply(lambda x:x[:3])\n",
    "df['testNumber'] = df['testId'].apply(lambda x:x[-3:])\n",
    "df['questionNumber'] = df['assessmentItemID'].apply(lambda x:x[-3:])\n",
    "\n",
    "drop_cols = ['test_cumcount','test_itemnum','test_num','test_start_time','test_end_time']\n",
    "df = df.drop(columns=drop_cols)"
   ]
  },
  {
   "cell_type": "code",
   "execution_count": 12,
   "metadata": {},
   "outputs": [],
   "source": [
    "csv_save_path = os.path.join(data_dir, 'total_data.csv')\n",
    "df.to_csv(csv_save_path, index=False)"
   ]
  }
 ],
 "metadata": {
  "interpreter": {
   "hash": "bb38b1d5dc17143af8c4be1110e85aba63a39da7f5e57e9420b18116c934763b"
  },
  "kernelspec": {
   "display_name": "Python 3.8.13 ('py38')",
   "language": "python",
   "name": "python3"
  },
  "language_info": {
   "codemirror_mode": {
    "name": "ipython",
    "version": 3
   },
   "file_extension": ".py",
   "mimetype": "text/x-python",
   "name": "python",
   "nbconvert_exporter": "python",
   "pygments_lexer": "ipython3",
   "version": "3.8.13"
  },
  "orig_nbformat": 4
 },
 "nbformat": 4,
 "nbformat_minor": 2
}

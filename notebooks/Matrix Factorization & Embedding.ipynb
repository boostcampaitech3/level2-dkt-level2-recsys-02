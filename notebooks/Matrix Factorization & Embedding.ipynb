{
 "cells": [
  {
   "cell_type": "code",
   "execution_count": 1,
   "metadata": {},
   "outputs": [],
   "source": [
    "import pandas as pd\n",
    "import os\n",
    "import numpy as np\n",
    "import seaborn as sns; sns.set_theme(color_codes=True)\n",
    "from sklearn.decomposition import LatentDirichletAllocation, TruncatedSVD\n",
    "from gensim.models import Word2Vec\n",
    "from numpy.linalg import svd\n",
    "import pickle"
   ]
  },
  {
   "cell_type": "code",
   "execution_count": 2,
   "metadata": {},
   "outputs": [],
   "source": [
    "data_dir = '/opt/ml/project/data/' # 경로는 상황에 맞춰서 수정해주세요!\n",
    "csv_file_path = os.path.join(data_dir, 'total_data.csv') # 데이터는 대회홈페이지에서 받아주세요 :)\n",
    "df = pd.read_csv(csv_file_path, parse_dates=['Timestamp']) \n",
    "df = df.sort_values(by=['userID', 'Timestamp']).reset_index(drop=True)"
   ]
  },
  {
   "cell_type": "code",
   "execution_count": 3,
   "metadata": {},
   "outputs": [],
   "source": [
    "users_file_path = os.path.join(data_dir, 'cv1_users.pickle')\n",
    "with open(users_file_path,'rb') as f:\n",
    "    users = pickle.load(f)\n",
    "train_users, test_users = users['train_users'], users['test_users']"
   ]
  },
  {
   "cell_type": "code",
   "execution_count": 5,
   "metadata": {},
   "outputs": [],
   "source": [
    "last_test = df['answerCode'] == -1\n",
    "temp_df = df[~last_test].copy()\n",
    "valid_cond = temp_df['userID'].isin(train_users) == False\n",
    "last_cond = temp_df['userID'] != temp_df['userID'].shift(-1)\n",
    "last_valid = valid_cond & last_cond\n",
    "\n",
    "temp_df = temp_df[~last_valid]"
   ]
  },
  {
   "cell_type": "code",
   "execution_count": 7,
   "metadata": {},
   "outputs": [],
   "source": [
    "SVD_DIM = 5"
   ]
  },
  {
   "cell_type": "code",
   "execution_count": null,
   "metadata": {},
   "outputs": [],
   "source": [
    "correct_svd_df = temp_df.groupby(['userID', 'assessmentItemID']).answerCode.sum().reset_index()\n",
    "pivot_svd_df = correct_svd_df.pivot(index='userID', columns='assessmentItemID', values='answerCode').fillna(0)\n",
    "\n",
    "svd = TruncatedSVD(n_components=SVD_DIM)\n",
    "svd.fit(pivot_svd_df.T)\n",
    "transformed = svd.transform(pivot_svd_df.T)\n",
    "\n",
    "svd_dict = dict()\n",
    "for item, latent in zip(pivot_svd_df.T.index, transformed):\n",
    "    svd_dict[item] = latent\n",
    "\n",
    "with open('./assets/svd.pickle','wb') as f:\n",
    "    pickle.dump(svd_dict, f)"
   ]
  },
  {
   "cell_type": "code",
   "execution_count": 14,
   "metadata": {},
   "outputs": [],
   "source": [
    "LDA_DIM = 5"
   ]
  },
  {
   "cell_type": "code",
   "execution_count": 19,
   "metadata": {},
   "outputs": [],
   "source": [
    "lda_correct_df = temp_df[temp_df['answerCode'] == 1].copy()\n",
    "lda_mat = lda_correct_df.groupby(['assessmentItemID', 'userID'])['answerCode'].count()\n",
    "lda_mat = lda_mat.astype(np.uint8)\n",
    "lda_mat = lda_mat.unstack(fill_value=0)\n",
    "\n",
    "lda = LatentDirichletAllocation(LDA_DIM, random_state=0)\n",
    "transformed = lda.fit_transform(lda_mat)\n",
    "np.save(f'./assets/lda_correct_question.npy', transformed)"
   ]
  },
  {
   "cell_type": "code",
   "execution_count": 20,
   "metadata": {},
   "outputs": [],
   "source": [
    "lda_wrong_df = temp_df[temp_df['answerCode'] == 0].copy()\n",
    "lda_wrong_mat = lda_wrong_df.groupby(['assessmentItemID', 'userID'])['answerCode'].count()\n",
    "lda_wrong_mat = lda_wrong_mat.astype(np.uint8)\n",
    "lda_wrong_mat = lda_wrong_mat.unstack(fill_value=0)\n",
    "\n",
    "lda = LatentDirichletAllocation(LDA_DIM, random_state=0)\n",
    "transformed = lda.fit_transform(lda_wrong_mat)\n",
    "np.save(f'./assets/lda_wrong_question.npy', transformed)"
   ]
  },
  {
   "cell_type": "code",
   "execution_count": 13,
   "metadata": {},
   "outputs": [],
   "source": [
    "EMB_DIM = 10"
   ]
  },
  {
   "cell_type": "code",
   "execution_count": 17,
   "metadata": {},
   "outputs": [],
   "source": [
    "emb_correct_df = temp_df[temp_df['answerCode'] == 1].copy()\n",
    "emb_correct_df = emb_correct_df.groupby('userID')['assessmentItemID'].apply(list)\n",
    "sentences = list(emb_correct_df.values)\n",
    "model = Word2Vec(sentences, vector_size=EMB_DIM, window=100, seed=0, workers=16)\n",
    "\n",
    "question2vec = {}\n",
    "for content in model.wv.key_to_index.keys():\n",
    "    question2vec[content] = model.wv.get_vector(content)\n",
    "\n",
    "with open('./assets/word2vec_correct_question.pickle','wb') as f:\n",
    "    pickle.dump(question2vec, f)"
   ]
  },
  {
   "cell_type": "code",
   "execution_count": 18,
   "metadata": {},
   "outputs": [],
   "source": [
    "emb_wrong_df = temp_df[temp_df['answerCode'] == 0].copy()\n",
    "emb_wrong_df = emb_wrong_df.groupby('userID')['assessmentItemID'].apply(list)\n",
    "sentences = list(emb_wrong_df.values)\n",
    "model = Word2Vec(sentences, vector_size=EMB_DIM, window=100, seed=0, workers=16)\n",
    "\n",
    "question2vec = {}\n",
    "for content in model.wv.key_to_index.keys():\n",
    "    question2vec[content] = model.wv.get_vector(content)\n",
    "    \n",
    "with open('./assets/word2vec_wrong_question.pickle','wb') as f:\n",
    "    pickle.dump(question2vec, f)"
   ]
  }
 ],
 "metadata": {
  "interpreter": {
   "hash": "bb38b1d5dc17143af8c4be1110e85aba63a39da7f5e57e9420b18116c934763b"
  },
  "kernelspec": {
   "display_name": "Python 3.8.13 ('py38')",
   "language": "python",
   "name": "python3"
  },
  "language_info": {
   "codemirror_mode": {
    "name": "ipython",
    "version": 3
   },
   "file_extension": ".py",
   "mimetype": "text/x-python",
   "name": "python",
   "nbconvert_exporter": "python",
   "pygments_lexer": "ipython3",
   "version": "3.8.13"
  },
  "orig_nbformat": 4
 },
 "nbformat": 4,
 "nbformat_minor": 2
}

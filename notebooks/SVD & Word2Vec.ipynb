{
 "cells": [
  {
   "cell_type": "code",
   "execution_count": 1,
   "metadata": {},
   "outputs": [],
   "source": [
    "import pandas as pd\n",
    "import os\n",
    "import numpy as np\n",
    "import seaborn as sns; sns.set_theme(color_codes=True)\n",
    "from sklearn.decomposition import LatentDirichletAllocation, TruncatedSVD\n",
    "from gensim.models import Word2Vec\n",
    "import pickle\n",
    "from tqdm import tqdm"
   ]
  },
  {
   "cell_type": "code",
   "execution_count": 2,
   "metadata": {},
   "outputs": [],
   "source": [
    "data_dir = '/opt/ml/project/data/'\n",
    "csv_file_path = os.path.join(data_dir, 'total_data.csv')\n",
    "df = pd.read_csv(\n",
    "    filepath_or_buffer=csv_file_path,\n",
    "    usecols=['userID', 'assessmentItemID', 'answerCode', 'Timestamp'],\n",
    "    dtype = {'answerCode': 'int8'},\n",
    ")\n",
    "df = df.sort_values(by=['userID', 'Timestamp']).reset_index(drop=True)"
   ]
  },
  {
   "cell_type": "code",
   "execution_count": 3,
   "metadata": {},
   "outputs": [],
   "source": [
    "def get_svd(df, SVD_DIM=5):\n",
    "    correct_svd_df = df.groupby(['userID', 'assessmentItemID']).answerCode.sum().reset_index()\n",
    "    pivot_svd_df = correct_svd_df.pivot(index='userID', columns='assessmentItemID', values='answerCode').fillna(0)\n",
    "\n",
    "    svd = TruncatedSVD(n_components=SVD_DIM)\n",
    "    svd_question = svd.fit_transform(pivot_svd_df.T)\n",
    "\n",
    "    svd_q_dict = dict()\n",
    "    for item, latent in zip(pivot_svd_df.T.index, svd_question):\n",
    "        svd_q_dict[item] = latent\n",
    "\n",
    "    svd = TruncatedSVD(n_components=SVD_DIM)\n",
    "    svd_user = svd.fit_transform(pivot_svd_df)\n",
    "\n",
    "    svd_u_dict = dict()\n",
    "    for user, latent in zip(pivot_svd_df.index, svd_user):\n",
    "        svd_u_dict[user] = latent\n",
    "        \n",
    "    return svd_u_dict, svd_q_dict\n",
    "\n",
    "\n",
    "def get_lda(df, LDA_DIM=5):\n",
    "    lda_correct_df = df[df['answerCode'] == 1].copy()\n",
    "    lda_mat = lda_correct_df.groupby(['assessmentItemID', 'userID'])['answerCode'].count()\n",
    "    lda_mat = lda_mat.astype(np.uint8)\n",
    "    lda_mat = lda_mat.unstack(fill_value=0)\n",
    "\n",
    "    lda = LatentDirichletAllocation(LDA_DIM, random_state=0)\n",
    "    lda_correct_npy = lda.fit_transform(lda_mat)\n",
    "    \n",
    "    lda_wrong_df = df[df['answerCode'] == 0].copy()\n",
    "    lda_wrong_mat = lda_wrong_df.groupby(['assessmentItemID', 'userID'])['answerCode'].count()\n",
    "    lda_wrong_mat = lda_wrong_mat.astype(np.uint8)\n",
    "    lda_wrong_mat = lda_wrong_mat.unstack(fill_value=0)\n",
    "\n",
    "    lda = LatentDirichletAllocation(LDA_DIM, random_state=0)\n",
    "    lda_wrong_npy = lda.fit_transform(lda_wrong_mat)\n",
    "    \n",
    "    return lda_correct_npy, lda_wrong_npy\n",
    "\n",
    "def get_word2vec(df, EMB_DIM=10):\n",
    "    emb_correct_df = df[df['answerCode'] == 1].copy()\n",
    "    emb_correct_df = emb_correct_df.groupby('userID')['assessmentItemID'].apply(list)\n",
    "    sentences = list(emb_correct_df.values)\n",
    "    model = Word2Vec(sentences, vector_size=EMB_DIM, window=100, seed=0, workers=16)\n",
    "\n",
    "    correct_question2vec = {}\n",
    "    for content in model.wv.key_to_index.keys():\n",
    "        correct_question2vec[content] = model.wv.get_vector(content)\n",
    "\n",
    "    emb_wrong_df = df[df['answerCode'] == 0].copy()\n",
    "    emb_wrong_df = emb_wrong_df.groupby('userID')['assessmentItemID'].apply(list)\n",
    "    sentences = list(emb_wrong_df.values)\n",
    "    model = Word2Vec(sentences, vector_size=EMB_DIM, window=100, seed=0, workers=16)\n",
    "\n",
    "    wrong_question2vec = {}\n",
    "    for content in model.wv.key_to_index.keys():\n",
    "        wrong_question2vec[content] = model.wv.get_vector(content)\n",
    "    \n",
    "    return correct_question2vec, wrong_question2vec"
   ]
  },
  {
   "cell_type": "code",
   "execution_count": 4,
   "metadata": {},
   "outputs": [],
   "source": [
    "def valid_update(df, cv_num):\n",
    "    users_file_path = os.path.join(data_dir, f'cv1_users.pickle')\n",
    "    with open(users_file_path,'rb') as f:\n",
    "        users = pickle.load(f)\n",
    "    train_users = users['train_users']\n",
    "    test_users = users['test_users']\n",
    "\n",
    "    valid_cond1 = df['userID'].isin(train_users) == False\n",
    "    valid_cond2 = df['userID'].isin(test_users) == False\n",
    "    cv_idx = df[valid_cond1&valid_cond2].groupby('userID', as_index=False).nth(-cv_num).index\n",
    "    valid_idx = df[valid_cond1&valid_cond2].groupby('userID').tail(cv_num).index\n",
    "    \n",
    "    df['cv_idx'] = False\n",
    "    df['is_valid'] = False\n",
    "    \n",
    "    df.loc[cv_idx, 'cv_idx'] = True\n",
    "    df.loc[valid_idx, 'is_valid'] = True\n",
    "    \n",
    "    return df"
   ]
  },
  {
   "cell_type": "code",
   "execution_count": 5,
   "metadata": {},
   "outputs": [
    {
     "name": "stdout",
     "output_type": "stream",
     "text": [
      "7442 2007 744 2526700\n",
      "7442 4014 744 2526700\n",
      "7442 6021 744 2526700\n",
      "7442 8028 744 2526700\n",
      "7442 10035 744 2526700\n"
     ]
    }
   ],
   "source": [
    "cv_len = 5\n",
    "\n",
    "for cv_num in range(1, 1+cv_len):\n",
    "    df = valid_update(df, cv_num=cv_num)\n",
    "\n",
    "    cond1 = df['is_valid'] == True\n",
    "    cond2 = df['answerCode'] == -1\n",
    "    test_df = df[cond1|cond2].copy()\n",
    "    train_df = df[~(cond1|cond2)].copy()\n",
    "\n",
    "    print(train_df.userID.nunique(), len(df[cond1]), len(df[cond2]), len(train_df) + len(test_df))\n",
    "\n",
    "    svd_u_dict, svd_q_dict = get_svd(train_df)\n",
    "    with open(f'./assets3/cv{cv_num}/svd_question.pickle','wb') as f:\n",
    "        pickle.dump(svd_q_dict, f)\n",
    "    with open(f'./assets3/cv{cv_num}/svd_user.pickle','wb') as f:\n",
    "        pickle.dump(svd_u_dict, f)\n",
    "\n",
    "    correct_question2vec, wrong_question2vec = get_word2vec(train_df)\n",
    "    with open(f'./assets3/cv{cv_num}/word2vec_correct_question.pickle','wb') as f:\n",
    "        pickle.dump(correct_question2vec, f)\n",
    "    with open(f'./assets3/cv{cv_num}/word2vec_wrong_question.pickle','wb') as f:\n",
    "        pickle.dump(wrong_question2vec, f)"
   ]
  }
 ],
 "metadata": {
  "interpreter": {
   "hash": "bb38b1d5dc17143af8c4be1110e85aba63a39da7f5e57e9420b18116c934763b"
  },
  "kernelspec": {
   "display_name": "Python 3.8.13 ('py38')",
   "language": "python",
   "name": "python3"
  },
  "language_info": {
   "codemirror_mode": {
    "name": "ipython",
    "version": 3
   },
   "file_extension": ".py",
   "mimetype": "text/x-python",
   "name": "python",
   "nbconvert_exporter": "python",
   "pygments_lexer": "ipython3",
   "version": "3.8.13"
  },
  "orig_nbformat": 4
 },
 "nbformat": 4,
 "nbformat_minor": 2
}

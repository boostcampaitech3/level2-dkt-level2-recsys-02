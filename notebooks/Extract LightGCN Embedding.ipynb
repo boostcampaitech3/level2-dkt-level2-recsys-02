{
 "cells": [
  {
   "cell_type": "code",
   "execution_count": 1,
   "metadata": {},
   "outputs": [],
   "source": [
    "import os\n",
    "import pandas as pd\n",
    "import torch\n",
    "import pickle\n",
    "from torch_geometric.nn.models import LightGCN"
   ]
  },
  {
   "cell_type": "code",
   "execution_count": 2,
   "metadata": {},
   "outputs": [],
   "source": [
    "def prepare_dataset(device, basepath):\n",
    "    data = load_data(basepath)\n",
    "    train_data, valid_data, test_data = separate_data(data)\n",
    "    id2index, n_user, n_item = indexing_data(data)\n",
    "    train_data_proc = process_data(train_data, id2index, device)\n",
    "    valid_data_proc = process_data(valid_data, id2index, device)\n",
    "    test_data_proc = process_data(test_data, id2index, device)\n",
    "\n",
    "    return train_data_proc, valid_data_proc, test_data_proc, id2index, n_user, n_item\n",
    "\n",
    "\n",
    "def load_data(basepath):\n",
    "    path = os.path.join(basepath, \"total_data.csv\")\n",
    "    data = pd.read_csv(path)\n",
    "    data.drop_duplicates(\n",
    "        subset=[\"userID\", \"assessmentItemID\"], keep=\"last\", inplace=True\n",
    "    )\n",
    "    data = data.sort_values(by=['userID', 'Timestamp']).reset_index(drop=True)\n",
    "\n",
    "    return data\n",
    "\n",
    "def separate_data(data):\n",
    "    users_file_path = os.path.join(basepath, 'cv1_users.pickle')\n",
    "    with open(users_file_path,'rb') as f:\n",
    "        users = pickle.load(f)\n",
    "    train_users, test_users = users['train_users'], users['test_users']\n",
    "    \n",
    "    test_cond = data['answerCode'] == -1\n",
    "    valid_cond1 = data['userID'].isin(test_users) == False\n",
    "    valid_cond2 = data['userID'].isin(train_users) == False\n",
    "    valid_cond3 = data['userID'] != data['userID'].shift(-1)\n",
    "\n",
    "    train_data = data[~test_cond & ~(valid_cond1 & valid_cond2 & valid_cond3)].copy()\n",
    "    valid_data = data[valid_cond1 & valid_cond2 & valid_cond3].copy()\n",
    "    test_data = data[test_cond].copy()\n",
    "\n",
    "    return train_data, valid_data, test_data\n",
    "\n",
    "\n",
    "def indexing_data(data):\n",
    "    userid, itemid = (\n",
    "        sorted(list(set(data.userID))),\n",
    "        sorted(list(set(data.assessmentItemID))),\n",
    "    )\n",
    "    n_user, n_item = len(userid), len(itemid)\n",
    "\n",
    "    userid_2_index = {v: i for i, v in enumerate(userid)}\n",
    "    itemid_2_index = {v: i + n_user for i, v in enumerate(itemid)}\n",
    "    id_2_index = dict(userid_2_index, **itemid_2_index)\n",
    "\n",
    "    return id_2_index, n_user, n_item\n",
    "\n",
    "\n",
    "def process_data(data, id_2_index, device):\n",
    "    edge, label = [], []\n",
    "    for user, item, acode in zip(data.userID, data.assessmentItemID, data.answerCode):\n",
    "        uid, iid = id_2_index[user], id_2_index[item]\n",
    "        edge.append([uid, iid])\n",
    "        label.append(acode)\n",
    "\n",
    "    edge = torch.LongTensor(edge).T\n",
    "    label = torch.LongTensor(label)\n",
    "\n",
    "    return dict(edge=edge.to(device), label=label.to(device))\n",
    "\n",
    "def build(n_node, weight=None, **kwargs):\n",
    "    model = LightGCN(n_node, **kwargs)\n",
    "    if weight:\n",
    "        state = torch.load(weight)[\"model\"]\n",
    "        model.load_state_dict(state)\n",
    "        return model\n",
    "    else:\n",
    "        return model"
   ]
  },
  {
   "cell_type": "code",
   "execution_count": 3,
   "metadata": {},
   "outputs": [],
   "source": [
    "device = torch.device(\"cuda\" if True else \"cpu\")\n",
    "basepath = \"/opt/ml/project/data/\"\n",
    "train_data, valid_data, test_data, id_2_index, n_user, n_item = prepare_dataset(\n",
    "    device, basepath\n",
    ")\n",
    "model = build(\n",
    "    len(id_2_index),\n",
    "    embedding_dim=10,\n",
    "    num_layers=3,\n",
    "    alpha=None,\n",
    "    weight='/opt/ml/project/code/lightgcn/weight/best_model.pt',\n",
    "    **{}\n",
    ").to(device)"
   ]
  },
  {
   "cell_type": "code",
   "execution_count": 4,
   "metadata": {},
   "outputs": [],
   "source": [
    "indices = torch.arange(0,16896).to(device)\n",
    "emb_outs = model.embedding(indices).detach().cpu().numpy()"
   ]
  },
  {
   "cell_type": "code",
   "execution_count": 5,
   "metadata": {},
   "outputs": [],
   "source": [
    "emb_dict = {'user':{}, 'item':{}}\n",
    "reverse_id2index = {v:k for k,v in id_2_index.items()}\n",
    "\n",
    "for i in range(n_user):\n",
    "    emb_dict['user'][reverse_id2index[i]] = emb_outs[i]\n",
    "\n",
    "for i in range(n_item):\n",
    "    emb_dict['item'][reverse_id2index[i+n_user]] = emb_outs[i+n_user]\n",
    "\n",
    "with open('./assets/gcn_embedding.pickle','wb') as f:\n",
    "    pickle.dump(emb_dict, f)"
   ]
  },
  {
   "cell_type": "code",
   "execution_count": 6,
   "metadata": {},
   "outputs": [],
   "source": [
    "GCN_EMB_DIM = 10\n",
    "with open('./assets/gcn_embedding.pickle','rb') as f:\n",
    "    gcn_embedding = pickle.load(f)\n",
    "\n",
    "gcn_user_embedding = pd.DataFrame.from_dict(gcn_embedding['user']).T\n",
    "cols = [f'gcn_user_embedding{i+1}' for i in range(GCN_EMB_DIM)]\n",
    "cols.insert(0, 'userID')\n",
    "gcn_user_embedding = gcn_user_embedding.reset_index()\n",
    "gcn_user_embedding.columns = cols\n",
    "\n",
    "gcn_item_embedding = pd.DataFrame.from_dict(gcn_embedding['item']).T\n",
    "cols = [f'gcn_question_embedding{i+1}' for i in range(GCN_EMB_DIM)]\n",
    "cols.insert(0, 'assessmentItemID')\n",
    "gcn_item_embedding = gcn_item_embedding.reset_index()\n",
    "gcn_item_embedding.columns = cols"
   ]
  }
 ],
 "metadata": {
  "interpreter": {
   "hash": "bb38b1d5dc17143af8c4be1110e85aba63a39da7f5e57e9420b18116c934763b"
  },
  "kernelspec": {
   "display_name": "Python 3.8.13 ('py38')",
   "language": "python",
   "name": "python3"
  },
  "language_info": {
   "codemirror_mode": {
    "name": "ipython",
    "version": 3
   },
   "file_extension": ".py",
   "mimetype": "text/x-python",
   "name": "python",
   "nbconvert_exporter": "python",
   "pygments_lexer": "ipython3",
   "version": "3.8.13"
  },
  "orig_nbformat": 4
 },
 "nbformat": 4,
 "nbformat_minor": 2
}
